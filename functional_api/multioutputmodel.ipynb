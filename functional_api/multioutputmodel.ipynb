{
 "cells": [
  {
   "attachments": {},
   "cell_type": "markdown",
   "metadata": {},
   "source": [
    "# Multi Output Model\n",
    "A multi-output model is a neural network architecture that has multiple outputs, meaning it can predict multiple target variables at the same time. This can be useful in scenarios where the model needs to perform multiple tasks simultaneously, such as image segmentation, object detection, and language translation.\n",
    "\n",
    "In Keras functional API, a multi-output model can be created by defining multiple outputs in the model definition. Each output is defined as a separate layer, and then the model is instantiated with all the input and output layers."
   ]
  },
  {
   "cell_type": "code",
   "execution_count": 1,
   "metadata": {},
   "outputs": [],
   "source": [
    "import tensorflow as tf"
   ]
  },
  {
   "attachments": {},
   "cell_type": "markdown",
   "metadata": {},
   "source": [
    "For example, let's say we have a neural network that takes an image as input and we want to predict both the class of the image and its bounding box coordinates. We can define a multi-output model using the functional API as follows:"
   ]
  },
  {
   "cell_type": "code",
   "execution_count": 5,
   "metadata": {},
   "outputs": [],
   "source": [
    "# Input layer\n",
    "\n",
    "input_layer = tf.keras.layers.Input(shape=(224, 224, 3))\n",
    "\n",
    "# Stacking Layers\n",
    "# Convolutions\n",
    "conv1 = tf.keras.layers.Conv2D(filters=64,kernel_size=(3,3) ,activation=\"relu\")(input_layer)\n",
    "max_pool1 = tf.keras.layers.MaxPool2D(pool_size=(3,3))(conv1)\n",
    "conv2 = tf.keras.layers.Conv2D(filters=64, kernel_size=(3,3), activation=\"relu\")(max_pool1)\n",
    "max_pool2 = tf.keras.layers.MaxPool2D(pool_size=(3,3))(conv2)\n",
    "\n",
    "#flatten\n",
    "flatten = tf.keras.layers.Flatten()(max_pool2)\n",
    "\n",
    "#classification\n",
    "c_dense1 = tf.keras.layers.Dense(units=256, activation=\"relu\")(flatten)\n",
    "c_output = tf.keras.layers.Dense(units=10, activation=\"softmax\", name=\"c_output\")(c_dense1)\n",
    "\n",
    "# Regression\n",
    "r_dense1 = tf.keras.layers.Dense(units=512, activation=\"relu\")(flatten)\n",
    "r_output = tf.keras.layers.Dense(units=1, name=\"r_output\")(r_dense1)\n",
    "\n",
    "\n",
    "# Model\n",
    "model = tf.keras.models.Model(inputs=input_layer, outputs=[c_output,r_output])"
   ]
  },
  {
   "cell_type": "code",
   "execution_count": 6,
   "metadata": {},
   "outputs": [
    {
     "name": "stdout",
     "output_type": "stream",
     "text": [
      "Model: \"model_2\"\n",
      "__________________________________________________________________________________________________\n",
      " Layer (type)                   Output Shape         Param #     Connected to                     \n",
      "==================================================================================================\n",
      " input_3 (InputLayer)           [(None, 224, 224, 3  0           []                               \n",
      "                                )]                                                                \n",
      "                                                                                                  \n",
      " conv2d_4 (Conv2D)              (None, 222, 222, 64  1792        ['input_3[0][0]']                \n",
      "                                )                                                                 \n",
      "                                                                                                  \n",
      " max_pooling2d_4 (MaxPooling2D)  (None, 74, 74, 64)  0           ['conv2d_4[0][0]']               \n",
      "                                                                                                  \n",
      " conv2d_5 (Conv2D)              (None, 72, 72, 64)   36928       ['max_pooling2d_4[0][0]']        \n",
      "                                                                                                  \n",
      " max_pooling2d_5 (MaxPooling2D)  (None, 24, 24, 64)  0           ['conv2d_5[0][0]']               \n",
      "                                                                                                  \n",
      " flatten_2 (Flatten)            (None, 36864)        0           ['max_pooling2d_5[0][0]']        \n",
      "                                                                                                  \n",
      " dense_8 (Dense)                (None, 256)          9437440     ['flatten_2[0][0]']              \n",
      "                                                                                                  \n",
      " dense_9 (Dense)                (None, 512)          18874880    ['flatten_2[0][0]']              \n",
      "                                                                                                  \n",
      " c_output (Dense)               (None, 10)           2570        ['dense_8[0][0]']                \n",
      "                                                                                                  \n",
      " r_output (Dense)               (None, 1)            513         ['dense_9[0][0]']                \n",
      "                                                                                                  \n",
      "==================================================================================================\n",
      "Total params: 28,354,123\n",
      "Trainable params: 28,354,123\n",
      "Non-trainable params: 0\n",
      "__________________________________________________________________________________________________\n"
     ]
    }
   ],
   "source": [
    "model.summary()\n"
   ]
  },
  {
   "attachments": {},
   "cell_type": "markdown",
   "metadata": {},
   "source": [
    "The model can be trained using multiple loss functions by passing a dictionary of loss functions to the compile method:"
   ]
  },
  {
   "cell_type": "code",
   "execution_count": 7,
   "metadata": {},
   "outputs": [],
   "source": [
    "model.compile(optimizer='adam', loss={'c_output': 'binary_crossentropy', 'r_output': 'mse'})"
   ]
  },
  {
   "cell_type": "code",
   "execution_count": null,
   "metadata": {},
   "outputs": [],
   "source": []
  }
 ],
 "metadata": {
  "kernelspec": {
   "display_name": "tf",
   "language": "python",
   "name": "python3"
  },
  "language_info": {
   "codemirror_mode": {
    "name": "ipython",
    "version": 3
   },
   "file_extension": ".py",
   "mimetype": "text/x-python",
   "name": "python",
   "nbconvert_exporter": "python",
   "pygments_lexer": "ipython3",
   "version": "3.10.9"
  },
  "orig_nbformat": 4
 },
 "nbformat": 4,
 "nbformat_minor": 2
}
