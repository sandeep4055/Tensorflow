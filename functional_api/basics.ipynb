{
 "cells": [
  {
   "attachments": {},
   "cell_type": "markdown",
   "metadata": {},
   "source": [
    "# Create Model using Tensorflow functional Api"
   ]
  },
  {
   "attachments": {},
   "cell_type": "markdown",
   "metadata": {},
   "source": [
    "## TensorFlow Functional API \n",
    "- The term \"functional\" in the TensorFlow Functional API refers to the fact that the API allows the user to define a computational graph as a series of functional transformations applied to the input data.\n",
    "\n",
    "- In other words, the functional API is based on the idea of treating layers as functions that take input tensors and produce output tensors, allowing users to easily define complex models as a directed acyclic graph of functions.\n",
    "\n",
    "- The TensorFlow functional API is a way to create models that is more flexible than the Sequential API. With the functional API, you can create models that have multiple inputs, multiple outputs, shared layers, and more.\n",
    "\n",
    "Here is an example of how to create a simple model using the functional API:"
   ]
  },
  {
   "cell_type": "code",
   "execution_count": 2,
   "metadata": {},
   "outputs": [],
   "source": [
    "import tensorflow as tf"
   ]
  },
  {
   "attachments": {},
   "cell_type": "markdown",
   "metadata": {},
   "source": [
    "## There are 3 steps in creating model using Functional Api\n",
    "1. Defining Input Layer\n",
    "2. Stacking Layers\n",
    "3. Defining Model"
   ]
  },
  {
   "attachments": {},
   "cell_type": "markdown",
   "metadata": {},
   "source": [
    "# 1. Defining Input Layer\n",
    "we first define the input shape of our model using the Input function"
   ]
  },
  {
   "cell_type": "code",
   "execution_count": 3,
   "metadata": {},
   "outputs": [],
   "source": [
    "input = tf.keras.Input(shape=(224, 224, 3))"
   ]
  },
  {
   "attachments": {},
   "cell_type": "markdown",
   "metadata": {},
   "source": [
    "## 2. Stacking Layers\n",
    "Then, we define two dense layers with 64 units and ReLU activation, and an output layer with 10 units and softmax activation, and also we are passing input to the first layer."
   ]
  },
  {
   "cell_type": "code",
   "execution_count": 5,
   "metadata": {},
   "outputs": [],
   "source": [
    "layer1 = tf.keras.layers.Dense(64,activation=\"relu\")(input)\n",
    "layer2 = tf.keras.layers.Dense(64,activation=\"relu\")(layer1)\n",
    "output = tf.keras.layers.Dense(2,activation=\"softmax\")(layer2)"
   ]
  },
  {
   "attachments": {},
   "cell_type": "markdown",
   "metadata": {},
   "source": [
    "## 3. Defining model\n",
    "Finally, we create the model using the Model function and passing in the input and output layers"
   ]
  },
  {
   "cell_type": "code",
   "execution_count": 6,
   "metadata": {},
   "outputs": [],
   "source": [
    "model = tf.keras.models.Model(inputs=input, outputs=output)"
   ]
  },
  {
   "cell_type": "code",
   "execution_count": 7,
   "metadata": {},
   "outputs": [
    {
     "name": "stdout",
     "output_type": "stream",
     "text": [
      "Model: \"model\"\n",
      "_________________________________________________________________\n",
      " Layer (type)                Output Shape              Param #   \n",
      "=================================================================\n",
      " input_1 (InputLayer)        [(None, 224, 224, 3)]     0         \n",
      "                                                                 \n",
      " dense_3 (Dense)             (None, 224, 224, 64)      256       \n",
      "                                                                 \n",
      " dense_4 (Dense)             (None, 224, 224, 64)      4160      \n",
      "                                                                 \n",
      " dense_5 (Dense)             (None, 224, 224, 2)       130       \n",
      "                                                                 \n",
      "=================================================================\n",
      "Total params: 4,546\n",
      "Trainable params: 4,546\n",
      "Non-trainable params: 0\n",
      "_________________________________________________________________\n"
     ]
    }
   ],
   "source": [
    "model.summary()"
   ]
  },
  {
   "attachments": {},
   "cell_type": "markdown",
   "metadata": {},
   "source": [
    "## Once the model is created, we can compile it and fit it to our data just like with the Sequential API"
   ]
  }
 ],
 "metadata": {
  "kernelspec": {
   "display_name": "tf",
   "language": "python",
   "name": "python3"
  },
  "language_info": {
   "codemirror_mode": {
    "name": "ipython",
    "version": 3
   },
   "file_extension": ".py",
   "mimetype": "text/x-python",
   "name": "python",
   "nbconvert_exporter": "python",
   "pygments_lexer": "ipython3",
   "version": "3.10.9"
  },
  "orig_nbformat": 4
 },
 "nbformat": 4,
 "nbformat_minor": 2
}
