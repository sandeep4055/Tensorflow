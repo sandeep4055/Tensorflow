{
 "cells": [
  {
   "cell_type": "code",
   "execution_count": 1,
   "id": "1d85993d",
   "metadata": {},
   "outputs": [],
   "source": [
    "import tensorflow as tf\n",
    "import numpy as np\n",
    "import matplotlib.pyplot as plt"
   ]
  },
  {
   "cell_type": "code",
   "execution_count": 2,
   "id": "3e9f7c52",
   "metadata": {},
   "outputs": [],
   "source": [
    "gpus = tf.config.experimental.list_physical_devices('GPU')\n",
    "\n",
    "if gpus:\n",
    "    for gpu in gpus:\n",
    "        tf.config.experimental.set_virtual_device_configuration(gpu,[tf.config.experimental.VirtualDeviceConfiguration(memory_limit=3072)])"
   ]
  },
  {
   "cell_type": "code",
   "execution_count": 3,
   "id": "cdf86d52",
   "metadata": {},
   "outputs": [],
   "source": [
    "(x_train, y_train), (x_test, y_test) = tf.keras.datasets.mnist.load_data()"
   ]
  },
  {
   "cell_type": "code",
   "execution_count": 4,
   "id": "852d2a4e",
   "metadata": {},
   "outputs": [
    {
     "data": {
      "text/plain": [
       "(60000, 28, 28)"
      ]
     },
     "execution_count": 4,
     "metadata": {},
     "output_type": "execute_result"
    }
   ],
   "source": [
    "x_train.shape"
   ]
  },
  {
   "cell_type": "code",
   "execution_count": 5,
   "id": "7e1dbbe5",
   "metadata": {},
   "outputs": [],
   "source": [
    "x_train = x_train.astype(np.float32)\n",
    "x_test = x_test.astype(np.float32)"
   ]
  },
  {
   "cell_type": "code",
   "execution_count": 6,
   "id": "4bc6ee6a",
   "metadata": {},
   "outputs": [],
   "source": [
    "train = tf.data.Dataset.from_tensor_slices(tensors=(x_train,y_train))\n",
    "test = tf.data.Dataset.from_tensor_slices(tensors=(x_test,y_test))"
   ]
  },
  {
   "cell_type": "code",
   "execution_count": 7,
   "id": "96d3a15a",
   "metadata": {},
   "outputs": [],
   "source": [
    "train_iterator = train.as_numpy_iterator()\n",
    "test_iterator = test.as_numpy_iterator()"
   ]
  },
  {
   "cell_type": "markdown",
   "id": "62eab799",
   "metadata": {},
   "source": [
    "# Plot images"
   ]
  },
  {
   "cell_type": "code",
   "execution_count": 8,
   "id": "42c8a9b1",
   "metadata": {},
   "outputs": [
    {
     "data": {
      "image/png": "[encoded data removed]",
      "text/plain": [
       "<Figure size 2000x2000 with 4 Axes>"
      ]
     },
     "metadata": {},
     "output_type": "display_data"
    }
   ],
   "source": [
    "# Setup the subplot formatting \n",
    "fig, ax = plt.subplots(ncols=4, figsize=(20,20))\n",
    "# Loop four times and get images \n",
    "for idx in range(4): \n",
    "    # Grab an image and label\n",
    "    sample = train_iterator.next()\n",
    "    # Plot the image using a specific subplot \n",
    "    ax[idx].imshow(np.squeeze(sample[0]))\n",
    "    # Appending the image label as the plot title \n",
    "    ax[idx].title.set_text(sample[1])"
   ]
  },
  {
   "cell_type": "code",
   "execution_count": 9,
   "id": "fe1bf4a6",
   "metadata": {},
   "outputs": [],
   "source": [
    "# Scale and return images only \n",
    "def scale_images(image, label): \n",
    "    return image / 255.0 , label"
   ]
  },
  {
   "cell_type": "code",
   "execution_count": 10,
   "id": "7105dedc",
   "metadata": {},
   "outputs": [],
   "source": [
    "# Running the dataset through the scale_images preprocessing step\n",
    "train_ds = train.map(scale_images) \n",
    "# Cache the dataset for that batch , shuffle , batch , prefectch\n",
    "train_ds = train_ds.cache().shuffle(60000).batch(128).prefetch(64)\n",
    "\n",
    "test_ds = test.map(scale_images) \n",
    "# Cache the dataset for that batch , shuffle , batch , prefectch\n",
    "test_ds = test_ds.cache().shuffle(60000).batch(128).prefetch(64)"
   ]
  },
  {
   "cell_type": "markdown",
   "id": "72e75062",
   "metadata": {},
   "source": [
    "# Generator"
   ]
  },
  {
   "cell_type": "code",
   "execution_count": 25,
   "id": "98474bee",
   "metadata": {},
   "outputs": [],
   "source": [
    "# Bring in the sequential api for the generator and discriminator\n",
    "from tensorflow.keras.models import Sequential\n",
    "# Bring in the layers for the neural network\n",
    "from tensorflow.keras.layers import Conv2D, Dense, Flatten, Reshape, LeakyReLU, Dropout, UpSampling2D"
   ]
  },
  {
   "cell_type": "code",
   "execution_count": 29,
   "id": "eb4872c8",
   "metadata": {},
   "outputs": [],
   "source": [
    "def build_generator(): \n",
    "    model = Sequential()\n",
    "    \n",
    "    # Takes in random values and reshapes it to 7x7x128\n",
    "    # Beginnings of a generated image\n",
    "    model.add(Dense(7*7*128, input_dim=128))\n",
    "    model.add(LeakyReLU(0.2))\n",
    "    model.add(Reshape((7,7,128)))\n",
    "    \n",
    "    # Upsampling block 1 \n",
    "    model.add(UpSampling2D())\n",
    "    model.add(Conv2D(128, 5, padding='same'))\n",
    "    model.add(LeakyReLU(0.2))\n",
    "    \n",
    "    # Upsampling block 2 \n",
    "    model.add(UpSampling2D())\n",
    "    model.add(Conv2D(128, 5, padding='same'))\n",
    "    model.add(LeakyReLU(0.2))\n",
    "    \n",
    "    # Convolutional block 1\n",
    "    model.add(Conv2D(128, 4, padding='same'))\n",
    "    model.add(LeakyReLU(0.2))\n",
    "    \n",
    "    # Convolutional block 2\n",
    "    model.add(Conv2D(128, 4, padding='same'))\n",
    "    model.add(LeakyReLU(0.2))\n",
    "    \n",
    "    # Conv layer to get to one channel\n",
    "    model.add(Conv2D(1, 4, padding='same', activation='sigmoid'))\n",
    "    \n",
    "    return model"
   ]
  },
  {
   "cell_type": "code",
   "execution_count": 32,
   "id": "044af312",
   "metadata": {},
   "outputs": [],
   "source": [
    "generator = build_generator()"
   ]
  },
  {
   "cell_type": "code",
   "execution_count": 33,
   "id": "1aec149b",
   "metadata": {},
   "outputs": [
    {
     "name": "stdout",
     "output_type": "stream",
     "text": [
      "Model: \"sequential_2\"\n",
      "_________________________________________________________________\n",
      " Layer (type)                Output Shape              Param #   \n",
      "=================================================================\n",
      " dense_2 (Dense)             (None, 6272)              809088    \n",
      "                                                                 \n",
      " leaky_re_lu_6 (LeakyReLU)   (None, 6272)              0         \n",
      "                                                                 \n",
      " reshape_2 (Reshape)         (None, 7, 7, 128)         0         \n",
      "                                                                 \n",
      " up_sampling2d_2 (UpSampling  (None, 14, 14, 128)      0         \n",
      " 2D)                                                             \n",
      "                                                                 \n",
      " conv2d_5 (Conv2D)           (None, 14, 14, 128)       409728    \n",
      "                                                                 \n",
      " leaky_re_lu_7 (LeakyReLU)   (None, 14, 14, 128)       0         \n",
      "                                                                 \n",
      " up_sampling2d_3 (UpSampling  (None, 28, 28, 128)      0         \n",
      " 2D)                                                             \n",
      "                                                                 \n",
      " conv2d_6 (Conv2D)           (None, 28, 28, 128)       409728    \n",
      "                                                                 \n",
      " leaky_re_lu_8 (LeakyReLU)   (None, 28, 28, 128)       0         \n",
      "                                                                 \n",
      " conv2d_7 (Conv2D)           (None, 28, 28, 128)       262272    \n",
      "                                                                 \n",
      " leaky_re_lu_9 (LeakyReLU)   (None, 28, 28, 128)       0         \n",
      "                                                                 \n",
      " conv2d_8 (Conv2D)           (None, 28, 28, 128)       262272    \n",
      "                                                                 \n",
      " leaky_re_lu_10 (LeakyReLU)  (None, 28, 28, 128)       0         \n",
      "                                                                 \n",
      " conv2d_9 (Conv2D)           (None, 28, 28, 1)         2049      \n",
      "                                                                 \n",
      "=================================================================\n",
      "Total params: 2,155,137\n",
      "Trainable params: 2,155,137\n",
      "Non-trainable params: 0\n",
      "_________________________________________________________________\n"
     ]
    }
   ],
   "source": [
    "generator.summary()"
   ]
  },
  {
   "cell_type": "code",
   "execution_count": 53,
   "id": "bdd8f84a",
   "metadata": {},
   "outputs": [
    {
     "name": "stdout",
     "output_type": "stream",
     "text": [
      "1/1 [==============================] - 0s 20ms/step\n"
     ]
    }
   ],
   "source": [
    "img = generator.predict(np.random.randn(4,128,1))"
   ]
  },
  {
   "cell_type": "code",
   "execution_count": 54,
   "id": "77d226a7",
   "metadata": {},
   "outputs": [
    {
     "data": {
      "image/png": "[encoded data removed]",
      "text/plain": [
       "<Figure size 2000x2000 with 4 Axes>"
      ]
     },
     "metadata": {},
     "output_type": "display_data"
    }
   ],
   "source": [
    "# Setup the subplot formatting \n",
    "fig, ax = plt.subplots(ncols=4, figsize=(20,20))\n",
    "# Loop four times and get images \n",
    "for idx, image in enumerate(img): \n",
    "    # Plot the image using a specific subplot \n",
    "    ax[idx].imshow(np.squeeze(image))\n",
    "    # Appending the image label as the plot title \n",
    "    ax[idx].title.set_text(idx)"
   ]
  },
  {
   "cell_type": "markdown",
   "id": "e27af74c",
   "metadata": {},
   "source": [
    "# Discriminator"
   ]
  },
  {
   "cell_type": "code",
   "execution_count": 46,
   "id": "1b166232",
   "metadata": {},
   "outputs": [],
   "source": [
    "def build_discriminator(): \n",
    "    model = Sequential()\n",
    "    \n",
    "    # First Conv Block\n",
    "    model.add(Conv2D(32, 5, input_shape = (28,28,1)))\n",
    "    model.add(LeakyReLU(0.2))\n",
    "    model.add(Dropout(0.4))\n",
    "    \n",
    "    # Second Conv Block\n",
    "    model.add(Conv2D(64, 5))\n",
    "    model.add(LeakyReLU(0.2))\n",
    "    model.add(Dropout(0.4))\n",
    "    \n",
    "    # Third Conv Block\n",
    "    model.add(Conv2D(128, 5))\n",
    "    model.add(LeakyReLU(0.2))\n",
    "    model.add(Dropout(0.4))\n",
    "    \n",
    "    # Fourth Conv Block\n",
    "    model.add(Conv2D(256, 5))\n",
    "    model.add(LeakyReLU(0.2))\n",
    "    model.add(Dropout(0.4))\n",
    "    \n",
    "    # Flatten then pass to dense layer\n",
    "    model.add(Flatten())\n",
    "    model.add(Dropout(0.4))\n",
    "    model.add(Dense(1, activation='sigmoid'))\n",
    "    \n",
    "    return model "
   ]
  },
  {
   "cell_type": "code",
   "execution_count": 47,
   "id": "4cc7b8a9",
   "metadata": {},
   "outputs": [],
   "source": [
    "discriminator = build_discriminator()"
   ]
  },
  {
   "cell_type": "code",
   "execution_count": 48,
   "id": "a104319a",
   "metadata": {},
   "outputs": [
    {
     "name": "stdout",
     "output_type": "stream",
     "text": [
      "Model: \"sequential_3\"\n",
      "_________________________________________________________________\n",
      " Layer (type)                Output Shape              Param #   \n",
      "=================================================================\n",
      " conv2d_10 (Conv2D)          (None, 24, 24, 32)        832       \n",
      "                                                                 \n",
      " leaky_re_lu_11 (LeakyReLU)  (None, 24, 24, 32)        0         \n",
      "                                                                 \n",
      " dropout (Dropout)           (None, 24, 24, 32)        0         \n",
      "                                                                 \n",
      " conv2d_11 (Conv2D)          (None, 20, 20, 64)        51264     \n",
      "                                                                 \n",
      " leaky_re_lu_12 (LeakyReLU)  (None, 20, 20, 64)        0         \n",
      "                                                                 \n",
      " dropout_1 (Dropout)         (None, 20, 20, 64)        0         \n",
      "                                                                 \n",
      " conv2d_12 (Conv2D)          (None, 16, 16, 128)       204928    \n",
      "                                                                 \n",
      " leaky_re_lu_13 (LeakyReLU)  (None, 16, 16, 128)       0         \n",
      "                                                                 \n",
      " dropout_2 (Dropout)         (None, 16, 16, 128)       0         \n",
      "                                                                 \n",
      " conv2d_13 (Conv2D)          (None, 12, 12, 256)       819456    \n",
      "                                                                 \n",
      " leaky_re_lu_14 (LeakyReLU)  (None, 12, 12, 256)       0         \n",
      "                                                                 \n",
      " dropout_3 (Dropout)         (None, 12, 12, 256)       0         \n",
      "                                                                 \n",
      " flatten (Flatten)           (None, 36864)             0         \n",
      "                                                                 \n",
      " dropout_4 (Dropout)         (None, 36864)             0         \n",
      "                                                                 \n",
      " dense_3 (Dense)             (None, 1)                 36865     \n",
      "                                                                 \n",
      "=================================================================\n",
      "Total params: 1,113,345\n",
      "Trainable params: 1,113,345\n",
      "Non-trainable params: 0\n",
      "_________________________________________________________________\n"
     ]
    }
   ],
   "source": [
    "discriminator.summary()"
   ]
  },
  {
   "cell_type": "code",
   "execution_count": 55,
   "id": "419818e2",
   "metadata": {},
   "outputs": [
    {
     "data": {
      "text/plain": [
       "(28, 28, 1)"
      ]
     },
     "execution_count": 55,
     "metadata": {},
     "output_type": "execute_result"
    }
   ],
   "source": [
    "img = img[0]\n",
    "img.shape"
   ]
  },
  {
   "cell_type": "code",
   "execution_count": null,
   "id": "5ff6a2f8",
   "metadata": {},
   "outputs": [],
   "source": [
    "discriminator.predict(img)"
   ]
  },
  {
   "cell_type": "code",
   "execution_count": 57,
   "id": "c682e55d",
   "metadata": {},
   "outputs": [],
   "source": [
    "from numba import cuda \n",
    "device = cuda.get_current_device()\n",
    "device.reset()"
   ]
  },
  {
   "cell_type": "code",
   "execution_count": null,
   "id": "76819121",
   "metadata": {},
   "outputs": [],
   "source": []
  }
 ],
 "metadata": {
  "kernelspec": {
   "display_name": "Python 3 (ipykernel)",
   "language": "python",
   "name": "python3"
  },
  "language_info": {
   "codemirror_mode": {
    "name": "ipython",
    "version": 3
   },
   "file_extension": ".py",
   "mimetype": "text/x-python",
   "name": "python",
   "nbconvert_exporter": "python",
   "pygments_lexer": "ipython3",
   "version": "3.10.9"
  }
 },
 "nbformat": 4,
 "nbformat_minor": 5
}
