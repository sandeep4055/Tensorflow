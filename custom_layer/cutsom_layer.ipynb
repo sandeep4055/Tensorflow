{
 "cells": [
  {
   "attachments": {},
   "cell_type": "markdown",
   "metadata": {},
   "source": [
    "# Custom Layers"
   ]
  },
  {
   "attachments": {},
   "cell_type": "markdown",
   "metadata": {
    "vscode": {
     "languageId": "plaintext"
    }
   },
   "source": [
    "In TensorFlow, custom layers are a way to define your own layers with a specific behavior that is not provided by the existing built-in layers. They can be used to implement complex neural network architectures, define custom activation functions, regularization techniques, etc.\n",
    "\n",
    "To create a custom layer in TensorFlow, you need to define a new class that extends the tf.keras.layers.Layer base class. This new class should implement the following methods:\n",
    "\n",
    "1. **__init__(self, ...) method:** This method is called when the layer is instantiated and should define any necessary parameters for the layer.\n",
    "\n",
    "2. **build(self, input_shape) method:** This method is called once the shape of the input to the layer is known and should define the weights of the layer. The input_shape argument is a TensorShape object that describes the shape of the input to the layer.\n",
    "\n",
    "3. **call(self, inputs) method:** This method defines the forward pass of the layer and takes the input tensor as an argument. It should return the output tensor.\n",
    "\n",
    "4. **compute_output_shape(self, input_shape) method:** This method is used to compute the shape of the output tensor given the shape of the input tensor.  "
   ]
  },
  {
   "attachments": {},
   "cell_type": "markdown",
   "metadata": {},
   "source": [
    "# Creating Custom Simple dense layer"
   ]
  },
  {
   "cell_type": "code",
   "execution_count": 1,
   "metadata": {},
   "outputs": [],
   "source": [
    "import tensorflow as tf"
   ]
  },
  {
   "cell_type": "code",
   "execution_count": 14,
   "metadata": {},
   "outputs": [],
   "source": [
    "class CustomDenseLayer(tf.keras.layers.Layer):\n",
    "    # constructor\n",
    "    def __init__(self, units=32, activation=None):\n",
    "        super(CustomDenseLayer, self).__init__()\n",
    "        self.units = units\n",
    "        self.activation = activation\n",
    "        \n",
    "    # build\n",
    "    def build(self, input_shape):\n",
    "        self.w = self.add_weight(shape=(input_shape[-1], self.units), initializer=\"random_normal\", trainable=True)\n",
    "        self.b = self.add_weight(shape=(self.units,), initializer=\"random_normal\", trainable=True)\n",
    "    \n",
    "    # call\n",
    "    def call(self, inputs):\n",
    "        z = tf.matmul(inputs, self.w) + self.b\n",
    "        if self.activation is not None:\n",
    "            return self.activation(z)\n",
    "        return z\n"
   ]
  },
  {
   "cell_type": "code",
   "execution_count": 11,
   "metadata": {},
   "outputs": [],
   "source": [
    "\n",
    "# Define your model using the custom layer\n",
    "inputs = tf.keras.Input(shape=(784,))\n",
    "x = CustomDenseLayer(units=64, activation=tf.nn.relu)(inputs)\n",
    "x = CustomDenseLayer(units=10)(x)\n",
    "outputs = tf.keras.layers.Activation('softmax')(x)\n",
    "model = tf.keras.Model(inputs=inputs, outputs=outputs)\n",
    "\n",
    "# Compile the model with categorical crossentropy loss and Adam optimizer\n",
    "model.compile(\n",
    "    loss='categorical_crossentropy',\n",
    "    optimizer='adam',\n",
    "    metrics=['accuracy']\n",
    ")"
   ]
  },
  {
   "cell_type": "code",
   "execution_count": 12,
   "metadata": {},
   "outputs": [
    {
     "name": "stdout",
     "output_type": "stream",
     "text": [
      "Model: \"model\"\n",
      "_________________________________________________________________\n",
      " Layer (type)                Output Shape              Param #   \n",
      "=================================================================\n",
      " input_3 (InputLayer)        [(None, 784)]             0         \n",
      "                                                                 \n",
      " custom_dense_layer (CustomD  (None, 64)               50240     \n",
      " enseLayer)                                                      \n",
      "                                                                 \n",
      " custom_dense_layer_1 (Custo  (None, 10)               650       \n",
      " mDenseLayer)                                                    \n",
      "                                                                 \n",
      " activation (Activation)     (None, 10)                0         \n",
      "                                                                 \n",
      "=================================================================\n",
      "Total params: 50,890\n",
      "Trainable params: 50,890\n",
      "Non-trainable params: 0\n",
      "_________________________________________________________________\n"
     ]
    }
   ],
   "source": [
    "model.summary()"
   ]
  },
  {
   "cell_type": "code",
   "execution_count": 13,
   "metadata": {},
   "outputs": [
    {
     "name": "stdout",
     "output_type": "stream",
     "text": [
      "Epoch 1/10\n",
      "1875/1875 [==============================] - 6s 3ms/step - loss: 0.3524 - accuracy: 0.9021 - val_loss: 0.2017 - val_accuracy: 0.9414\n",
      "Epoch 2/10\n",
      "1875/1875 [==============================] - 4s 2ms/step - loss: 0.1724 - accuracy: 0.9503 - val_loss: 0.1342 - val_accuracy: 0.9589\n",
      "Epoch 3/10\n",
      "1875/1875 [==============================] - 5s 2ms/step - loss: 0.1233 - accuracy: 0.9642 - val_loss: 0.1190 - val_accuracy: 0.9637\n",
      "Epoch 4/10\n",
      "1875/1875 [==============================] - 5s 3ms/step - loss: 0.0954 - accuracy: 0.9715 - val_loss: 0.1009 - val_accuracy: 0.9693\n",
      "Epoch 5/10\n",
      "1875/1875 [==============================] - 5s 3ms/step - loss: 0.0777 - accuracy: 0.9776 - val_loss: 0.0922 - val_accuracy: 0.9724\n",
      "Epoch 6/10\n",
      "1875/1875 [==============================] - 5s 3ms/step - loss: 0.0645 - accuracy: 0.9806 - val_loss: 0.0898 - val_accuracy: 0.9733\n",
      "Epoch 7/10\n",
      "1875/1875 [==============================] - 5s 2ms/step - loss: 0.0549 - accuracy: 0.9836 - val_loss: 0.0898 - val_accuracy: 0.9727\n",
      "Epoch 8/10\n",
      "1875/1875 [==============================] - 5s 3ms/step - loss: 0.0468 - accuracy: 0.9858 - val_loss: 0.0978 - val_accuracy: 0.9708\n",
      "Epoch 9/10\n",
      "1875/1875 [==============================] - 5s 3ms/step - loss: 0.0402 - accuracy: 0.9877 - val_loss: 0.0841 - val_accuracy: 0.9765\n",
      "Epoch 10/10\n",
      "1875/1875 [==============================] - 5s 2ms/step - loss: 0.0345 - accuracy: 0.9895 - val_loss: 0.0845 - val_accuracy: 0.9767\n"
     ]
    },
    {
     "data": {
      "text/plain": [
       "<keras.callbacks.History at 0x2d0cf968b20>"
      ]
     },
     "execution_count": 13,
     "metadata": {},
     "output_type": "execute_result"
    }
   ],
   "source": [
    "# Generate some sample data and train the model on it\n",
    "(x_train, y_train), (x_test, y_test) = tf.keras.datasets.mnist.load_data()\n",
    "x_train, x_test = x_train.reshape(-1, 784) / 255.0, x_test.reshape(-1, 784) / 255.0\n",
    "y_train, y_test = tf.keras.utils.to_categorical(y_train), tf.keras.utils.to_categorical(y_test)\n",
    "model.fit(x_train, y_train, epochs=10, batch_size=32, validation_data=(x_test, y_test))"
   ]
  },
  {
   "cell_type": "code",
   "execution_count": null,
   "metadata": {},
   "outputs": [],
   "source": []
  }
 ],
 "metadata": {
  "kernelspec": {
   "display_name": "tf",
   "language": "python",
   "name": "python3"
  },
  "language_info": {
   "codemirror_mode": {
    "name": "ipython",
    "version": 3
   },
   "file_extension": ".py",
   "mimetype": "text/x-python",
   "name": "python",
   "nbconvert_exporter": "python",
   "pygments_lexer": "ipython3",
   "version": "3.10.9"
  },
  "orig_nbformat": 4
 },
 "nbformat": 4,
 "nbformat_minor": 2
}
